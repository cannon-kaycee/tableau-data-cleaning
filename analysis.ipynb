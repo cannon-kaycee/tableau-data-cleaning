{
 "cells": [
  {
   "cell_type": "markdown",
   "metadata": {},
   "source": [
    "Analysis for CitiBike Data"
   ]
  },
  {
   "cell_type": "markdown",
   "metadata": {},
   "source": [
    "Phenomena #1: March 2020 and COVID\n",
    "\n",
    "The first phenomena is that CitiBike usage was down dramatically mid-way through March 2020, likely due to fewer individuals on the streets during the start of COVID. In one of the visualizations we see this decline. In the second visualization we see that there is a sharp decline in customer riders mid-March of 2020; though the subscribers also see a sharp decline, there is a far greater ratio to those who are still riding as subscribers. "
   ]
  },
  {
   "cell_type": "markdown",
   "metadata": {},
   "source": [
    "Phenomena #2: Gender Differences\n",
    "\n",
    "The second phenomena is the wild difference between male and female bike riders. In one visualization we see that male riders occur almost twice as much as female riders. In another visualization we see that male riders at are common throughout the 24 hour span of a day, while women riders are almost impossible to find in the middle of the night. "
   ]
  }
 ],
 "metadata": {
  "language_info": {
   "name": "python"
  },
  "orig_nbformat": 4
 },
 "nbformat": 4,
 "nbformat_minor": 2
}
